{
  "nbformat": 4,
  "nbformat_minor": 0,
  "metadata": {
    "colab": {
      "provenance": [],
      "gpuType": "T4"
    },
    "kernelspec": {
      "name": "python3",
      "display_name": "Python 3"
    },
    "language_info": {
      "name": "python"
    },
    "accelerator": "GPU"
  },
  "cells": [
    {
      "cell_type": "code",
      "execution_count": 59,
      "metadata": {
        "colab": {
          "base_uri": "https://localhost:8080/",
          "height": 35
        },
        "id": "k3KVd_TAu8el",
        "outputId": "4074b0f0-eaad-41bb-bdd1-5eee73e61013"
      },
      "outputs": [
        {
          "output_type": "execute_result",
          "data": {
            "text/plain": [
              "'2.8.0+cu126'"
            ],
            "application/vnd.google.colaboratory.intrinsic+json": {
              "type": "string"
            }
          },
          "metadata": {},
          "execution_count": 59
        }
      ],
      "source": [
        "import torch\n",
        "from torch import nn\n",
        "import numpy as np\n",
        "import matplotlib.pyplot as plt\n",
        "\n",
        "torch.__version__\n"
      ]
    },
    {
      "cell_type": "markdown",
      "source": [
        "##Creating *known* parameters\n"
      ],
      "metadata": {
        "id": "LBW1b__j8aqE"
      }
    },
    {
      "cell_type": "code",
      "source": [
        "\n",
        "weight = 0.7\n",
        "bias = 0.3\n",
        "\n",
        "start = 0\n",
        "end = 1\n",
        "step = 0.02\n",
        "X = torch.arange(start, end, step).unsqueeze(dim=1)\n",
        "y = weight*X + bias\n",
        "\n",
        "X[:10], y[:10]"
      ],
      "metadata": {
        "colab": {
          "base_uri": "https://localhost:8080/"
        },
        "id": "FIEwQkK1wcqS",
        "outputId": "e1f6749f-071f-4abc-c942-b913f64efe4f"
      },
      "execution_count": 60,
      "outputs": [
        {
          "output_type": "execute_result",
          "data": {
            "text/plain": [
              "(tensor([[0.0000],\n",
              "         [0.0200],\n",
              "         [0.0400],\n",
              "         [0.0600],\n",
              "         [0.0800],\n",
              "         [0.1000],\n",
              "         [0.1200],\n",
              "         [0.1400],\n",
              "         [0.1600],\n",
              "         [0.1800]]),\n",
              " tensor([[0.3000],\n",
              "         [0.3140],\n",
              "         [0.3280],\n",
              "         [0.3420],\n",
              "         [0.3560],\n",
              "         [0.3700],\n",
              "         [0.3840],\n",
              "         [0.3980],\n",
              "         [0.4120],\n",
              "         [0.4260]]))"
            ]
          },
          "metadata": {},
          "execution_count": 60
        }
      ]
    },
    {
      "cell_type": "code",
      "source": [
        "len(X), len(y)"
      ],
      "metadata": {
        "colab": {
          "base_uri": "https://localhost:8080/"
        },
        "id": "jZdc1gzmxh3_",
        "outputId": "5375a1e9-db04-4e0a-e39a-6c144e8e4d97"
      },
      "execution_count": 61,
      "outputs": [
        {
          "output_type": "execute_result",
          "data": {
            "text/plain": [
              "(50, 50)"
            ]
          },
          "metadata": {},
          "execution_count": 61
        }
      ]
    },
    {
      "cell_type": "markdown",
      "source": [
        "##Splitting data into training and testing sets\n"
      ],
      "metadata": {
        "id": "wN2WiHfw8Xz7"
      }
    },
    {
      "cell_type": "code",
      "source": [
        "\n",
        "train_split = int(0.8 * len(X))\n",
        "X_train, y_train = X[:train_split], y[:train_split]\n",
        "X_test, y_test = X[train_split:], y[train_split:]\n",
        "\n",
        "len(X_train), len(y_train), len(X_test), len(y_test)"
      ],
      "metadata": {
        "colab": {
          "base_uri": "https://localhost:8080/"
        },
        "id": "OSR08KVrxrJE",
        "outputId": "90a185d0-6b17-4d07-f866-52112923d157"
      },
      "execution_count": 62,
      "outputs": [
        {
          "output_type": "execute_result",
          "data": {
            "text/plain": [
              "(40, 40, 10, 10)"
            ]
          },
          "metadata": {},
          "execution_count": 62
        }
      ]
    },
    {
      "cell_type": "code",
      "source": [
        "X_train, y_train"
      ],
      "metadata": {
        "colab": {
          "base_uri": "https://localhost:8080/"
        },
        "id": "bVVQjET6zCZu",
        "outputId": "9a0537d5-ba0f-466d-b64e-e8c8ef3d3f82"
      },
      "execution_count": 63,
      "outputs": [
        {
          "output_type": "execute_result",
          "data": {
            "text/plain": [
              "(tensor([[0.0000],\n",
              "         [0.0200],\n",
              "         [0.0400],\n",
              "         [0.0600],\n",
              "         [0.0800],\n",
              "         [0.1000],\n",
              "         [0.1200],\n",
              "         [0.1400],\n",
              "         [0.1600],\n",
              "         [0.1800],\n",
              "         [0.2000],\n",
              "         [0.2200],\n",
              "         [0.2400],\n",
              "         [0.2600],\n",
              "         [0.2800],\n",
              "         [0.3000],\n",
              "         [0.3200],\n",
              "         [0.3400],\n",
              "         [0.3600],\n",
              "         [0.3800],\n",
              "         [0.4000],\n",
              "         [0.4200],\n",
              "         [0.4400],\n",
              "         [0.4600],\n",
              "         [0.4800],\n",
              "         [0.5000],\n",
              "         [0.5200],\n",
              "         [0.5400],\n",
              "         [0.5600],\n",
              "         [0.5800],\n",
              "         [0.6000],\n",
              "         [0.6200],\n",
              "         [0.6400],\n",
              "         [0.6600],\n",
              "         [0.6800],\n",
              "         [0.7000],\n",
              "         [0.7200],\n",
              "         [0.7400],\n",
              "         [0.7600],\n",
              "         [0.7800]]),\n",
              " tensor([[0.3000],\n",
              "         [0.3140],\n",
              "         [0.3280],\n",
              "         [0.3420],\n",
              "         [0.3560],\n",
              "         [0.3700],\n",
              "         [0.3840],\n",
              "         [0.3980],\n",
              "         [0.4120],\n",
              "         [0.4260],\n",
              "         [0.4400],\n",
              "         [0.4540],\n",
              "         [0.4680],\n",
              "         [0.4820],\n",
              "         [0.4960],\n",
              "         [0.5100],\n",
              "         [0.5240],\n",
              "         [0.5380],\n",
              "         [0.5520],\n",
              "         [0.5660],\n",
              "         [0.5800],\n",
              "         [0.5940],\n",
              "         [0.6080],\n",
              "         [0.6220],\n",
              "         [0.6360],\n",
              "         [0.6500],\n",
              "         [0.6640],\n",
              "         [0.6780],\n",
              "         [0.6920],\n",
              "         [0.7060],\n",
              "         [0.7200],\n",
              "         [0.7340],\n",
              "         [0.7480],\n",
              "         [0.7620],\n",
              "         [0.7760],\n",
              "         [0.7900],\n",
              "         [0.8040],\n",
              "         [0.8180],\n",
              "         [0.8320],\n",
              "         [0.8460]]))"
            ]
          },
          "metadata": {},
          "execution_count": 63
        }
      ]
    },
    {
      "cell_type": "code",
      "source": [
        "def plot_predictions(train_data=X_train,\n",
        "                     train_labels=y_train,\n",
        "                     test_data = X_test,\n",
        "                     test_labels = y_test,\n",
        "                     predictions=None):\n",
        "\n",
        "  plt.figure(figsize=(10, 7))\n",
        "\n",
        "  plt.scatter(train_data, train_labels, c=\"b\", s=4, label = \"Training Data\")\n",
        "\n",
        "  plt.scatter(test_data, test_labels, c=\"g\", s=4, label = \"Testing Data\")\n",
        "\n",
        "  if predictions is not None:\n",
        "    plt.scatter(test_data, predictions, c=\"r\", s=4, label = \"Predictions\")"
      ],
      "metadata": {
        "id": "6Lo8K9PvzFMo"
      },
      "execution_count": 64,
      "outputs": []
    },
    {
      "cell_type": "code",
      "source": [
        "plot_predictions();"
      ],
      "metadata": {
        "colab": {
          "base_uri": "https://localhost:8080/",
          "height": 599
        },
        "id": "wFVIkDYSzvsA",
        "outputId": "38e0fd2a-60fd-412c-fd82-49a6091d8cef"
      },
      "execution_count": 65,
      "outputs": [
        {
          "output_type": "display_data",
          "data": {
            "text/plain": [
              "<Figure size 1000x700 with 1 Axes>"
            ],
            "image/png": "[encoded data removed]"
          },
          "metadata": {}
        }
      ]
    },
    {
      "cell_type": "markdown",
      "source": [
        "##2 . Building model"
      ],
      "metadata": {
        "id": "NktTZ-Yy7V3z"
      }
    },
    {
      "cell_type": "code",
      "source": [
        "class LinearRegressionModel(nn.Module):\n",
        "  def __init__(self):\n",
        "    super().__init__()\n",
        "    self.weights = nn.Parameter(torch.randn(1, requires_grad=True, dtype=torch.float))\n",
        "    self.bias = nn.Parameter(torch.randn(1, requires_grad=True, dtype = torch.float))\n",
        "\n",
        "\n",
        "  def forward(self, x: torch.Tensor) -> torch.Tensor:\n",
        "    return self.weights*x + self.bias"
      ],
      "metadata": {
        "id": "NnL5lBT-0X2B"
      },
      "execution_count": 66,
      "outputs": []
    },
    {
      "cell_type": "code",
      "source": [
        "class LinearRegressionModel(nn.Module):\n",
        "  def __init__(self):\n",
        "    super().__init__()\n",
        "    self.weights = nn.Parameter(torch.randn(1, requires_grad=True, dtype=torch.float))\n",
        "    self.bias = nn.Parameter(torch.randn(1, requires_grad=True, dtype= torch.float))\n",
        "\n",
        "  def forward(self, x:torch.Tensor) -> torch.Tensor:\n",
        "    return self.weights*x + self.bias\n"
      ],
      "metadata": {
        "id": "xU0vPSfj5Xpz"
      },
      "execution_count": 72,
      "outputs": []
    },
    {
      "cell_type": "markdown",
      "source": [
        "##Pytorch model building essentials\n",
        "\n",
        "* torch.nn - contains all of the builfings for computational graphs(a neural network can be considered a computational graph)\n",
        "\n",
        "* torch.nn.Parameter - what parameters should our model try and learn, often a PyTorch layer from torch.nn will set these for us\n",
        "\n",
        "* torch.optim - this where the optimizers in Pytorch live, they will help with gradient descent\n",
        "\n",
        "* def forward() - All nn.Module subclasses require you to overwrite forward(), this method defines what happens in the forward computation\n"
      ],
      "metadata": {
        "id": "8W-LYToO7awh"
      }
    },
    {
      "cell_type": "markdown",
      "source": [
        " ## Checking the contents of our PyTorch model:\n"
      ],
      "metadata": {
        "id": "_osC_CQS9CzJ"
      }
    },
    {
      "cell_type": "code",
      "source": [
        "#Create a random seed\n",
        "torch.manual_seed(42)\n",
        "\n",
        "model_0 = LinearRegressionModel()\n",
        "\n",
        "list(model_0.parameters())"
      ],
      "metadata": {
        "colab": {
          "base_uri": "https://localhost:8080/"
        },
        "id": "sbrrbCST3lmz",
        "outputId": "77ec2356-0bb8-4be3-ef42-fd890dbd7577"
      },
      "execution_count": 73,
      "outputs": [
        {
          "output_type": "execute_result",
          "data": {
            "text/plain": [
              "[Parameter containing:\n",
              " tensor([0.3367], requires_grad=True),\n",
              " Parameter containing:\n",
              " tensor([0.1288], requires_grad=True)]"
            ]
          },
          "metadata": {},
          "execution_count": 73
        }
      ]
    },
    {
      "cell_type": "code",
      "source": [
        "torch.manual_seed(42)\n",
        "\n",
        "model_0 = LinearRegressionModel()\n",
        "\n",
        "list(model_0.parameters())"
      ],
      "metadata": {
        "colab": {
          "base_uri": "https://localhost:8080/"
        },
        "id": "PNCbyVIyTrCd",
        "outputId": "a4252d5a-2807-404e-9290-99112009079c"
      },
      "execution_count": 74,
      "outputs": [
        {
          "output_type": "execute_result",
          "data": {
            "text/plain": [
              "[Parameter containing:\n",
              " tensor([0.3367], requires_grad=True),\n",
              " Parameter containing:\n",
              " tensor([0.1288], requires_grad=True)]"
            ]
          },
          "metadata": {},
          "execution_count": 74
        }
      ]
    },
    {
      "cell_type": "code",
      "source": [
        "# List named parameters\n",
        "\n",
        "model_0.state_dict()"
      ],
      "metadata": {
        "colab": {
          "base_uri": "https://localhost:8080/"
        },
        "id": "VEEBejHY87he",
        "outputId": "b4816b9f-7614-472b-b570-edbbcd69b8bb"
      },
      "execution_count": 75,
      "outputs": [
        {
          "output_type": "execute_result",
          "data": {
            "text/plain": [
              "OrderedDict([('weights', tensor([0.3367])), ('bias', tensor([0.1288]))])"
            ]
          },
          "metadata": {},
          "execution_count": 75
        }
      ]
    },
    {
      "cell_type": "code",
      "source": [
        "weight, bias"
      ],
      "metadata": {
        "colab": {
          "base_uri": "https://localhost:8080/"
        },
        "id": "UyL9EP6d95aq",
        "outputId": "887ddecd-be25-48f1-8451-7eb30e731be4"
      },
      "execution_count": 76,
      "outputs": [
        {
          "output_type": "execute_result",
          "data": {
            "text/plain": [
              "(0.7, 0.3)"
            ]
          },
          "metadata": {},
          "execution_count": 76
        }
      ]
    },
    {
      "cell_type": "markdown",
      "source": [
        "### Making predictions using 'torch.inference_mode()'\n",
        "\n",
        "To check our model's predictive power, let's see how well it predicts 'y_test' based on 'X_test'.\n",
        "\n",
        "When we pass data through our model, it's going to run it through the 'forward()' method\n"
      ],
      "metadata": {
        "id": "UEO_qgLP-Qt6"
      }
    },
    {
      "cell_type": "code",
      "source": [
        "with torch.inference_mode():\n",
        "  y_preds = model_0(X_test)\n",
        "\n",
        "y_preds"
      ],
      "metadata": {
        "colab": {
          "base_uri": "https://localhost:8080/"
        },
        "id": "T4pvuYHY97R_",
        "outputId": "d6fb3653-dc73-447e-f879-2c23f4fa4afe"
      },
      "execution_count": 77,
      "outputs": [
        {
          "output_type": "execute_result",
          "data": {
            "text/plain": [
              "tensor([[0.3982],\n",
              "        [0.4049],\n",
              "        [0.4116],\n",
              "        [0.4184],\n",
              "        [0.4251],\n",
              "        [0.4318],\n",
              "        [0.4386],\n",
              "        [0.4453],\n",
              "        [0.4520],\n",
              "        [0.4588]])"
            ]
          },
          "metadata": {},
          "execution_count": 77
        }
      ]
    },
    {
      "cell_type": "code",
      "source": [
        "y_test"
      ],
      "metadata": {
        "colab": {
          "base_uri": "https://localhost:8080/"
        },
        "id": "o9iacmZm-_cS",
        "outputId": "14cac356-0a10-4d3f-a84c-e0804a4687e8"
      },
      "execution_count": 78,
      "outputs": [
        {
          "output_type": "execute_result",
          "data": {
            "text/plain": [
              "tensor([[0.8600],\n",
              "        [0.8740],\n",
              "        [0.8880],\n",
              "        [0.9020],\n",
              "        [0.9160],\n",
              "        [0.9300],\n",
              "        [0.9440],\n",
              "        [0.9580],\n",
              "        [0.9720],\n",
              "        [0.9860]])"
            ]
          },
          "metadata": {},
          "execution_count": 78
        }
      ]
    },
    {
      "cell_type": "code",
      "source": [
        "plot_predictions(predictions = y_preds)"
      ],
      "metadata": {
        "colab": {
          "base_uri": "https://localhost:8080/",
          "height": 599
        },
        "id": "eyKl-_uj_PlI",
        "outputId": "de4e515d-6c66-4cc0-9e00-090c3fea106a"
      },
      "execution_count": 79,
      "outputs": [
        {
          "output_type": "display_data",
          "data": {
            "text/plain": [
              "<Figure size 1000x700 with 1 Axes>"
            ],
            "image/png": "[encoded data removed]"
          },
          "metadata": {}
        }
      ]
    },
    {
      "cell_type": "code",
      "source": [
        "list(model_0.parameters())"
      ],
      "metadata": {
        "id": "hM8BN5cR_ZxK",
        "outputId": "49c059da-ddd3-495e-9e76-dd8c319aafe3",
        "colab": {
          "base_uri": "https://localhost:8080/"
        }
      },
      "execution_count": 80,
      "outputs": [
        {
          "output_type": "execute_result",
          "data": {
            "text/plain": [
              "[Parameter containing:\n",
              " tensor([0.3367], requires_grad=True),\n",
              " Parameter containing:\n",
              " tensor([0.1288], requires_grad=True)]"
            ]
          },
          "metadata": {},
          "execution_count": 80
        }
      ]
    },
    {
      "cell_type": "code",
      "source": [
        "model_0.state_dict()"
      ],
      "metadata": {
        "id": "7mVwky7-tYtB",
        "outputId": "1e6f21eb-5404-4fb3-8216-6ceb3fc1b32c",
        "colab": {
          "base_uri": "https://localhost:8080/"
        }
      },
      "execution_count": 81,
      "outputs": [
        {
          "output_type": "execute_result",
          "data": {
            "text/plain": [
              "OrderedDict([('weights', tensor([0.3367])), ('bias', tensor([0.1288]))])"
            ]
          },
          "metadata": {},
          "execution_count": 81
        }
      ]
    },
    {
      "cell_type": "code",
      "source": [
        "loss_fn = nn.L1Loss()\n",
        "\n",
        "optimizer = torch.optim.SGD(params = model_0.parameters(), lr=0.01)"
      ],
      "metadata": {
        "id": "6DBUETW5vbZE"
      },
      "execution_count": 83,
      "outputs": []
    },
    {
      "cell_type": "markdown",
      "source": [
        "### Building a training loop (and a testing loop) in Pytorch\n",
        "\n",
        "1. A couple of things we need in a training loop:\n",
        "2. Forward pass (this involves data moving through our model's 'forward()' functions) to make predictions on data - also called forward propagation.\n",
        "3. Optimizer zero grad\n",
        "4. Loss backward - move backwards through the network to calculate the gradients of each of the parameters of our model with respect to the loss.(**Backpropogation**)\n",
        "5. Optimizer step - use the optimizer to adjust our model's parameters to try and improve the loss"
      ],
      "metadata": {
        "id": "0ir_mvyewNz1"
      }
    },
    {
      "cell_type": "code",
      "source": [
        "# An epoch is one loop through the data....\n",
        "epochs = 1\n",
        "\n",
        "for epoch in range(epochs):\n",
        "  model_0.train()\n",
        "  #Foward pass\n",
        "  y_pred = model_0(X_train)\n",
        "  #Calculate the loss\n",
        "  loss = loss_fn(y_pred, y_train)\n",
        "  #Optimiser zero grad\n",
        "  optimizer.zero_grad()\n",
        "  # Perform backpropagation on the loss with respect to the parameters of the model.\n",
        "  loss.backward()\n",
        "  # Step the optimizer(perform gradient descent)\n",
        "  optimizer.step()\n",
        "\n",
        "  model_0.eval()#turns off gradient tracking\n"
      ],
      "metadata": {
        "id": "qQsG7Lbnv2a1"
      },
      "execution_count": null,
      "outputs": []
    },
    {
      "cell_type": "code",
      "source": [
        "torch.manual_seed(42)\n",
        "epoch_values = []\n",
        "loss_values = []\n",
        "test_loss_values=[]\n",
        "\n",
        "\n",
        "epochs = 200\n",
        "for epoch in range(epochs):\n",
        "  model_0.train()\n",
        "  y_pred = model_0(X_train)\n",
        "  loss = loss_fn(y_pred, y_train)\n",
        "  optimizer.zero_grad()\n",
        "  loss.backward()\n",
        "  optimizer.step()\n",
        "  model_0.eval()\n",
        "\n",
        "  with torch.inference_mode():\n",
        "    test_pred = model_0(X_test)\n",
        "    test_loss = loss_fn(test_pred, y_test)\n",
        "\n",
        "  if epoch%10==0:\n",
        "    epoch_values.append(epoch)\n",
        "    loss_values.append(loss)\n",
        "    test_loss_values.append(test_loss)\n",
        "    print(f\"Epoch:{epoch}|Loss:{loss}|Test Loss:{test_loss}\")\n",
        "\n",
        "    print(model_0.state_dict())\n"
      ],
      "metadata": {
        "id": "iR95N7icZxd3",
        "outputId": "2e8a3937-a2b6-495b-b875-56a69f6c5320",
        "colab": {
          "base_uri": "https://localhost:8080/"
        }
      },
      "execution_count": 84,
      "outputs": [
        {
          "output_type": "stream",
          "name": "stdout",
          "text": [
            "Epoch:0|Loss:0.31288138031959534|Test Loss:0.48106518387794495\n",
            "OrderedDict({'weights': tensor([0.3406]), 'bias': tensor([0.1388])})\n",
            "Epoch:10|Loss:0.1976713240146637|Test Loss:0.3463551998138428\n",
            "OrderedDict({'weights': tensor([0.3796]), 'bias': tensor([0.2388])})\n",
            "Epoch:20|Loss:0.08908725529909134|Test Loss:0.21729660034179688\n",
            "OrderedDict({'weights': tensor([0.4184]), 'bias': tensor([0.3333])})\n",
            "Epoch:30|Loss:0.053148526698350906|Test Loss:0.14464017748832703\n",
            "OrderedDict({'weights': tensor([0.4512]), 'bias': tensor([0.3768])})\n",
            "Epoch:40|Loss:0.04543796554207802|Test Loss:0.11360953003168106\n",
            "OrderedDict({'weights': tensor([0.4748]), 'bias': tensor([0.3868])})\n",
            "Epoch:50|Loss:0.04167863354086876|Test Loss:0.09919948130846024\n",
            "OrderedDict({'weights': tensor([0.4938]), 'bias': tensor([0.3843])})\n",
            "Epoch:60|Loss:0.03818932920694351|Test Loss:0.08886633068323135\n",
            "OrderedDict({'weights': tensor([0.5116]), 'bias': tensor([0.3788])})\n",
            "Epoch:70|Loss:0.03476089984178543|Test Loss:0.0805937647819519\n",
            "OrderedDict({'weights': tensor([0.5288]), 'bias': tensor([0.3718])})\n",
            "Epoch:80|Loss:0.03132382780313492|Test Loss:0.07232122868299484\n",
            "OrderedDict({'weights': tensor([0.5459]), 'bias': tensor([0.3648])})\n",
            "Epoch:90|Loss:0.02788739837706089|Test Loss:0.06473556160926819\n",
            "OrderedDict({'weights': tensor([0.5629]), 'bias': tensor([0.3573])})\n",
            "Epoch:100|Loss:0.024458957836031914|Test Loss:0.05646304413676262\n",
            "OrderedDict({'weights': tensor([0.5800]), 'bias': tensor([0.3503])})\n",
            "Epoch:110|Loss:0.021020207554101944|Test Loss:0.04819049686193466\n",
            "OrderedDict({'weights': tensor([0.5972]), 'bias': tensor([0.3433])})\n",
            "Epoch:120|Loss:0.01758546568453312|Test Loss:0.04060482233762741\n",
            "OrderedDict({'weights': tensor([0.6141]), 'bias': tensor([0.3358])})\n",
            "Epoch:130|Loss:0.014155393466353416|Test Loss:0.03233227878808975\n",
            "OrderedDict({'weights': tensor([0.6313]), 'bias': tensor([0.3288])})\n",
            "Epoch:140|Loss:0.010716589167714119|Test Loss:0.024059748277068138\n",
            "OrderedDict({'weights': tensor([0.6485]), 'bias': tensor([0.3218])})\n",
            "Epoch:150|Loss:0.0072835334576666355|Test Loss:0.016474086791276932\n",
            "OrderedDict({'weights': tensor([0.6654]), 'bias': tensor([0.3143])})\n",
            "Epoch:160|Loss:0.0038517764769494534|Test Loss:0.008201557211577892\n",
            "OrderedDict({'weights': tensor([0.6826]), 'bias': tensor([0.3073])})\n",
            "Epoch:170|Loss:0.008932482451200485|Test Loss:0.005023092031478882\n",
            "OrderedDict({'weights': tensor([0.6951]), 'bias': tensor([0.2993])})\n",
            "Epoch:180|Loss:0.008932482451200485|Test Loss:0.005023092031478882\n",
            "OrderedDict({'weights': tensor([0.6951]), 'bias': tensor([0.2993])})\n",
            "Epoch:190|Loss:0.008932482451200485|Test Loss:0.005023092031478882\n",
            "OrderedDict({'weights': tensor([0.6951]), 'bias': tensor([0.2993])})\n"
          ]
        }
      ]
    },
    {
      "cell_type": "markdown",
      "source": [
        "####Learning rate Scheduling"
      ],
      "metadata": {
        "id": "N3w2WokWEY8F"
      }
    },
    {
      "cell_type": "code",
      "source": [
        "with torch.inference_mode():\n",
        "  y_preds_new = model_0(X_test)"
      ],
      "metadata": {
        "id": "i7a-fREeBsX9"
      },
      "execution_count": 101,
      "outputs": []
    },
    {
      "cell_type": "code",
      "source": [
        "weight, bias"
      ],
      "metadata": {
        "colab": {
          "base_uri": "https://localhost:8080/"
        },
        "id": "QH-t6D5tFsWs",
        "outputId": "60cde495-f6b0-4968-e81f-db9fe384f6dc"
      },
      "execution_count": 102,
      "outputs": [
        {
          "output_type": "execute_result",
          "data": {
            "text/plain": [
              "(0.7, 0.3)"
            ]
          },
          "metadata": {},
          "execution_count": 102
        }
      ]
    },
    {
      "cell_type": "code",
      "source": [
        "plot_predictions(predictions = y_preds_new)"
      ],
      "metadata": {
        "colab": {
          "base_uri": "https://localhost:8080/",
          "height": 599
        },
        "id": "qJQloIDXGZSN",
        "outputId": "46c15a08-d316-4b02-947a-7b835cd1ff6f"
      },
      "execution_count": 103,
      "outputs": [
        {
          "output_type": "display_data",
          "data": {
            "text/plain": [
              "<Figure size 1000x700 with 1 Axes>"
            ],
            "image/png": "[encoded data removed]"
          },
          "metadata": {}
        }
      ]
    },
    {
      "cell_type": "markdown",
      "source": [
        "##Saving model\n",
        "\n",
        "torch.save() = aloows you to save a PyTorch object in Python's pickle format\n",
        "\n",
        "torch.load() = allows you to load a saved PyTorch object\n",
        "\n",
        "torch.nn.Module.load_state_dict() - this allows to load a model'ssaved state dictionary\n"
      ],
      "metadata": {
        "id": "K_qHgr_6emZa"
      }
    },
    {
      "cell_type": "code",
      "source": [
        "from pathlib import Path\n",
        "\n",
        "MODEL_PATH = Path(\"models\")\n",
        "MODEL_PATH.mkdir(parents=True, exist_ok=True)\n",
        "\n",
        "MODEL_NAME = \"01_pytorch_workflow_model_0.pth\"\n",
        "MODEL_SAVE_PATH = MODEL_PATH / MODEL_NAME\n",
        "\n",
        "print(f\"Saving the model to:{MODEL_SAVE_PATH}\")\n",
        "torch.save(obj=model_0.state_dict(), f=MODEL_SAVE_PATH)"
      ],
      "metadata": {
        "id": "NBs5R0PnGiL1",
        "colab": {
          "base_uri": "https://localhost:8080/"
        },
        "outputId": "6d6d151b-93d7-414a-918a-135939663ddb"
      },
      "execution_count": 93,
      "outputs": [
        {
          "output_type": "stream",
          "name": "stdout",
          "text": [
            "Saving the model to:models/01_pytorch_workflow_model_0.pth\n"
          ]
        }
      ]
    },
    {
      "cell_type": "code",
      "source": [
        "model_0"
      ],
      "metadata": {
        "id": "Dr40OkScfUE1",
        "outputId": "eb15f34f-89f2-4b9f-f888-5fac3ab0a9b2",
        "colab": {
          "base_uri": "https://localhost:8080/"
        }
      },
      "execution_count": 94,
      "outputs": [
        {
          "output_type": "execute_result",
          "data": {
            "text/plain": [
              "LinearRegressionModel()"
            ]
          },
          "metadata": {},
          "execution_count": 94
        }
      ]
    },
    {
      "cell_type": "code",
      "source": [
        "ls -l models"
      ],
      "metadata": {
        "id": "sBJcmFwOgL-e",
        "outputId": "3bbbed8f-c983-4d9c-977e-2836212b4cce",
        "colab": {
          "base_uri": "https://localhost:8080/"
        }
      },
      "execution_count": 97,
      "outputs": [
        {
          "output_type": "stream",
          "name": "stdout",
          "text": [
            "total 4\n",
            "-rw-r--r-- 1 root root 2117 Sep 13 19:16 01_pytorch_workflow_model_0.pth\n"
          ]
        }
      ]
    },
    {
      "cell_type": "markdown",
      "source": [
        "###LOAD MODEL"
      ],
      "metadata": {
        "id": "_TehFkgliEy8"
      }
    },
    {
      "cell_type": "code",
      "source": [
        "loaded_model_0 = LinearRegressionModel()\n",
        "loaded_model_0.load_state_dict(torch.load(f=MODEL_SAVE_PATH))"
      ],
      "metadata": {
        "id": "I_jxdlfIiDpr",
        "outputId": "4a4d1658-c40f-4b02-ad9b-9052ff0f3a44",
        "colab": {
          "base_uri": "https://localhost:8080/"
        }
      },
      "execution_count": 98,
      "outputs": [
        {
          "output_type": "execute_result",
          "data": {
            "text/plain": [
              "<All keys matched successfully>"
            ]
          },
          "metadata": {},
          "execution_count": 98
        }
      ]
    },
    {
      "cell_type": "code",
      "source": [
        "loaded_model_0.eval()\n",
        "with torch.inference_mode():\n",
        "  loaded_model_preds = loaded_model_0(X_test)\n",
        "\n",
        "loaded_model_preds"
      ],
      "metadata": {
        "id": "2FOc7hDxggdL",
        "outputId": "e284e740-9e9d-474b-8db5-4c16027b9d46",
        "colab": {
          "base_uri": "https://localhost:8080/"
        }
      },
      "execution_count": 104,
      "outputs": [
        {
          "output_type": "execute_result",
          "data": {
            "text/plain": [
              "tensor([[0.8685],\n",
              "        [0.8825],\n",
              "        [0.8965],\n",
              "        [0.9105],\n",
              "        [0.9245],\n",
              "        [0.9384],\n",
              "        [0.9524],\n",
              "        [0.9664],\n",
              "        [0.9804],\n",
              "        [0.9944]])"
            ]
          },
          "metadata": {},
          "execution_count": 104
        }
      ]
    },
    {
      "cell_type": "code",
      "source": [
        "y_preds_new ==loaded_model_preds"
      ],
      "metadata": {
        "id": "V16s4zuJjH1i",
        "outputId": "95524d21-16fc-4c92-ba18-d211ceeca4d0",
        "colab": {
          "base_uri": "https://localhost:8080/"
        }
      },
      "execution_count": 105,
      "outputs": [
        {
          "output_type": "execute_result",
          "data": {
            "text/plain": [
              "tensor([[True],\n",
              "        [True],\n",
              "        [True],\n",
              "        [True],\n",
              "        [True],\n",
              "        [True],\n",
              "        [True],\n",
              "        [True],\n",
              "        [True],\n",
              "        [True]])"
            ]
          },
          "metadata": {},
          "execution_count": 105
        }
      ]
    },
    {
      "cell_type": "code",
      "source": [],
      "metadata": {
        "id": "ZEESF5tNjNib"
      },
      "execution_count": null,
      "outputs": []
    }
  ]
}
{
  "nbformat": 4,
  "nbformat_minor": 0,
  "metadata": {
    "colab": {
      "provenance": [],
      "gpuType": "T4"
    },
    "kernelspec": {
      "name": "python3",
      "display_name": "Python 3"
    },
    "language_info": {
      "name": "python"
    },
    "accelerator": "GPU"
  },
  "cells": [
    {
      "cell_type": "code",
      "execution_count": 1,
      "metadata": {
        "colab": {
          "base_uri": "https://localhost:8080/",
          "height": 35
        },
        "id": "k3KVd_TAu8el",
        "outputId": "65132a71-0004-45b0-a96d-74ae19957c7a"
      },
      "outputs": [
        {
          "output_type": "execute_result",
          "data": {
            "text/plain": [
              "'2.8.0+cu126'"
            ],
            "application/vnd.google.colaboratory.intrinsic+json": {
              "type": "string"
            }
          },
          "metadata": {},
          "execution_count": 1
        }
      ],
      "source": [
        "import torch\n",
        "from torch import nn\n",
        "import matplotlib.pyplot as plt\n",
        "\n",
        "torch.__version__\n"
      ]
    },
    {
      "cell_type": "markdown",
      "source": [
        "##Creating *known* parameters\n"
      ],
      "metadata": {
        "id": "LBW1b__j8aqE"
      }
    },
    {
      "cell_type": "code",
      "source": [
        "\n",
        "weight = 0.7\n",
        "bias = 0.3\n",
        "\n",
        "start = 0\n",
        "end = 1\n",
        "step = 0.02\n",
        "X = torch.arange(start, end, step).unsqueeze(dim=1)\n",
        "y = weight*X + bias\n",
        "\n",
        "X[:10], y[:10]"
      ],
      "metadata": {
        "colab": {
          "base_uri": "https://localhost:8080/"
        },
        "id": "FIEwQkK1wcqS",
        "outputId": "c2de2cb7-e205-4e95-96d9-ed259ec9d184"
      },
      "execution_count": 2,
      "outputs": [
        {
          "output_type": "execute_result",
          "data": {
            "text/plain": [
              "(tensor([[0.0000],\n",
              "         [0.0200],\n",
              "         [0.0400],\n",
              "         [0.0600],\n",
              "         [0.0800],\n",
              "         [0.1000],\n",
              "         [0.1200],\n",
              "         [0.1400],\n",
              "         [0.1600],\n",
              "         [0.1800]]),\n",
              " tensor([[0.3000],\n",
              "         [0.3140],\n",
              "         [0.3280],\n",
              "         [0.3420],\n",
              "         [0.3560],\n",
              "         [0.3700],\n",
              "         [0.3840],\n",
              "         [0.3980],\n",
              "         [0.4120],\n",
              "         [0.4260]]))"
            ]
          },
          "metadata": {},
          "execution_count": 2
        }
      ]
    },
    {
      "cell_type": "code",
      "source": [
        "len(X), len(y)"
      ],
      "metadata": {
        "colab": {
          "base_uri": "https://localhost:8080/"
        },
        "id": "jZdc1gzmxh3_",
        "outputId": "e6e1106c-914c-4512-a989-a367e756456d"
      },
      "execution_count": 3,
      "outputs": [
        {
          "output_type": "execute_result",
          "data": {
            "text/plain": [
              "(50, 50)"
            ]
          },
          "metadata": {},
          "execution_count": 3
        }
      ]
    },
    {
      "cell_type": "markdown",
      "source": [
        "##Splitting data into training and testing sets\n"
      ],
      "metadata": {
        "id": "wN2WiHfw8Xz7"
      }
    },
    {
      "cell_type": "code",
      "source": [
        "\n",
        "train_split = int(0.8 * len(X))\n",
        "X_train, y_train = X[:train_split], y[:train_split]\n",
        "X_test, y_test = X[train_split:], y[train_split:]\n",
        "\n",
        "len(X_train), len(y_train), len(X_test), len(y_test)"
      ],
      "metadata": {
        "colab": {
          "base_uri": "https://localhost:8080/"
        },
        "id": "OSR08KVrxrJE",
        "outputId": "b1c42b43-978d-41bd-ebfb-6da89efcf8ef"
      },
      "execution_count": 4,
      "outputs": [
        {
          "output_type": "execute_result",
          "data": {
            "text/plain": [
              "(40, 40, 10, 10)"
            ]
          },
          "metadata": {},
          "execution_count": 4
        }
      ]
    },
    {
      "cell_type": "code",
      "source": [
        "X_train, y_train"
      ],
      "metadata": {
        "colab": {
          "base_uri": "https://localhost:8080/"
        },
        "id": "bVVQjET6zCZu",
        "outputId": "4194bc6c-7c53-458c-9e1f-6f636823b671"
      },
      "execution_count": 5,
      "outputs": [
        {
          "output_type": "execute_result",
          "data": {
            "text/plain": [
              "(tensor([[0.0000],\n",
              "         [0.0200],\n",
              "         [0.0400],\n",
              "         [0.0600],\n",
              "         [0.0800],\n",
              "         [0.1000],\n",
              "         [0.1200],\n",
              "         [0.1400],\n",
              "         [0.1600],\n",
              "         [0.1800],\n",
              "         [0.2000],\n",
              "         [0.2200],\n",
              "         [0.2400],\n",
              "         [0.2600],\n",
              "         [0.2800],\n",
              "         [0.3000],\n",
              "         [0.3200],\n",
              "         [0.3400],\n",
              "         [0.3600],\n",
              "         [0.3800],\n",
              "         [0.4000],\n",
              "         [0.4200],\n",
              "         [0.4400],\n",
              "         [0.4600],\n",
              "         [0.4800],\n",
              "         [0.5000],\n",
              "         [0.5200],\n",
              "         [0.5400],\n",
              "         [0.5600],\n",
              "         [0.5800],\n",
              "         [0.6000],\n",
              "         [0.6200],\n",
              "         [0.6400],\n",
              "         [0.6600],\n",
              "         [0.6800],\n",
              "         [0.7000],\n",
              "         [0.7200],\n",
              "         [0.7400],\n",
              "         [0.7600],\n",
              "         [0.7800]]),\n",
              " tensor([[0.3000],\n",
              "         [0.3140],\n",
              "         [0.3280],\n",
              "         [0.3420],\n",
              "         [0.3560],\n",
              "         [0.3700],\n",
              "         [0.3840],\n",
              "         [0.3980],\n",
              "         [0.4120],\n",
              "         [0.4260],\n",
              "         [0.4400],\n",
              "         [0.4540],\n",
              "         [0.4680],\n",
              "         [0.4820],\n",
              "         [0.4960],\n",
              "         [0.5100],\n",
              "         [0.5240],\n",
              "         [0.5380],\n",
              "         [0.5520],\n",
              "         [0.5660],\n",
              "         [0.5800],\n",
              "         [0.5940],\n",
              "         [0.6080],\n",
              "         [0.6220],\n",
              "         [0.6360],\n",
              "         [0.6500],\n",
              "         [0.6640],\n",
              "         [0.6780],\n",
              "         [0.6920],\n",
              "         [0.7060],\n",
              "         [0.7200],\n",
              "         [0.7340],\n",
              "         [0.7480],\n",
              "         [0.7620],\n",
              "         [0.7760],\n",
              "         [0.7900],\n",
              "         [0.8040],\n",
              "         [0.8180],\n",
              "         [0.8320],\n",
              "         [0.8460]]))"
            ]
          },
          "metadata": {},
          "execution_count": 5
        }
      ]
    },
    {
      "cell_type": "code",
      "source": [
        "def plot_predictions(train_data=X_train,\n",
        "                     train_labels=y_train,\n",
        "                     test_data = X_test,\n",
        "                     test_labels = y_test,\n",
        "                     predictions=None):\n",
        "\n",
        "  plt.figure(figsize=(10, 7))\n",
        "\n",
        "  plt.scatter(train_data, train_labels, c=\"b\", s=4, label = \"Training Data\")\n",
        "\n",
        "  plt.scatter(test_data, test_labels, c=\"g\", s=4, label = \"Testing Data\")\n",
        "\n",
        "  if predictions is not None:\n",
        "    plt.scatter(test_data, predictions, c=\"r\", s=4, label = \"Predictions\")"
      ],
      "metadata": {
        "id": "6Lo8K9PvzFMo"
      },
      "execution_count": 37,
      "outputs": []
    },
    {
      "cell_type": "code",
      "source": [
        "plot_predictions();"
      ],
      "metadata": {
        "colab": {
          "base_uri": "https://localhost:8080/",
          "height": 599
        },
        "id": "wFVIkDYSzvsA",
        "outputId": "0ed81a51-cf83-4213-cf18-2921652f2e38"
      },
      "execution_count": 38,
      "outputs": [
        {
          "output_type": "display_data",
          "data": {
            "text/plain": [
              "<Figure size 1000x700 with 1 Axes>"
            ],
            "image/png": "[encoded data removed]"
          },
          "metadata": {}
        }
      ]
    },
    {
      "cell_type": "markdown",
      "source": [
        "##2 . Building model"
      ],
      "metadata": {
        "id": "NktTZ-Yy7V3z"
      }
    },
    {
      "cell_type": "code",
      "source": [
        "class LinearRegressionModel(nn.Module):\n",
        "  def __init__(self):\n",
        "    super().__init__()\n",
        "    self.weights = nn.Parameter(torch.randn(1, requires_grad=True, dtype=torch.float))\n",
        "    self.bias = nn.Parameter(torch.randn(1, requires_grad=True, dtype = torch.float))\n",
        "\n",
        "\n",
        "  def forward(self, x: torch.Tensor) -> torch.Tensor:\n",
        "    return self.weights*x + self.bias"
      ],
      "metadata": {
        "id": "NnL5lBT-0X2B"
      },
      "execution_count": 8,
      "outputs": []
    },
    {
      "cell_type": "code",
      "source": [
        "class LinearRegressionModel(nn.Module):\n",
        "  def __init__(self):\n",
        "    super().__init__()\n",
        "    self.weights = nn.Parameter(torch.randn(1, requires_grad=True, dtype = torch.float))\n",
        "    self.bias = nn.Parameter(torch.randn(1, requires_grad=True, dtype=torch.float))\n",
        "\n",
        "  def forward(self, x:torch.Tensor) -> torch.Tensor:\n",
        "    return self.weights*x + self.bias"
      ],
      "metadata": {
        "id": "xU0vPSfj5Xpz"
      },
      "execution_count": 39,
      "outputs": []
    },
    {
      "cell_type": "markdown",
      "source": [
        "##Pytorch model building essentials\n",
        "\n",
        "* torch.nn - contains all of the builfings for computational graphs(a neural network can be considered a computational graph)\n",
        "\n",
        "* torch.nn.Parameter - what parameters should our model try and learn, often a PyTorch layer from torch.nn will set these for us\n",
        "\n",
        "* torch.optim - this where the optimizers in Pytorch live, they will help with gradient descent\n",
        "\n",
        "* def forward() - All nn.Module subclasses require you to overwrite forward(), this method defines what happens in the forward computation\n"
      ],
      "metadata": {
        "id": "8W-LYToO7awh"
      }
    },
    {
      "cell_type": "markdown",
      "source": [
        " ## Checking the contents of our PyTorch model:\n"
      ],
      "metadata": {
        "id": "_osC_CQS9CzJ"
      }
    },
    {
      "cell_type": "code",
      "source": [
        "#Create a random seed\n",
        "torch.manual_seed(42)\n",
        "\n",
        "model_0 = LinearRegressionModel()\n",
        "\n",
        "list(model_0.parameters())"
      ],
      "metadata": {
        "colab": {
          "base_uri": "https://localhost:8080/"
        },
        "id": "sbrrbCST3lmz",
        "outputId": "326f8114-0df4-4656-f195-f2d11b44a447"
      },
      "execution_count": 40,
      "outputs": [
        {
          "output_type": "execute_result",
          "data": {
            "text/plain": [
              "[Parameter containing:\n",
              " tensor([0.3367], requires_grad=True),\n",
              " Parameter containing:\n",
              " tensor([0.1288], requires_grad=True)]"
            ]
          },
          "metadata": {},
          "execution_count": 40
        }
      ]
    },
    {
      "cell_type": "code",
      "source": [
        "# List named parameters\n",
        "\n",
        "model_0.state_dict()"
      ],
      "metadata": {
        "colab": {
          "base_uri": "https://localhost:8080/"
        },
        "id": "VEEBejHY87he",
        "outputId": "7b1d0720-2680-432a-920a-08992b0e3435"
      },
      "execution_count": 41,
      "outputs": [
        {
          "output_type": "execute_result",
          "data": {
            "text/plain": [
              "OrderedDict([('weights', tensor([0.3367])), ('bias', tensor([0.1288]))])"
            ]
          },
          "metadata": {},
          "execution_count": 41
        }
      ]
    },
    {
      "cell_type": "code",
      "source": [
        "weight, bias"
      ],
      "metadata": {
        "colab": {
          "base_uri": "https://localhost:8080/"
        },
        "id": "UyL9EP6d95aq",
        "outputId": "43477708-88eb-400e-e1c2-6be471bc92f3"
      },
      "execution_count": 42,
      "outputs": [
        {
          "output_type": "execute_result",
          "data": {
            "text/plain": [
              "(0.7, 0.3)"
            ]
          },
          "metadata": {},
          "execution_count": 42
        }
      ]
    },
    {
      "cell_type": "markdown",
      "source": [
        "### Making predictions using 'torch.inference_mode()'\n",
        "\n",
        "To check our model's predictive power, let's see how well it predicts 'y_test' based on 'X_test'.\n",
        "\n",
        "When we pass data through our model, it's going to run it through the 'forward()' method\n"
      ],
      "metadata": {
        "id": "UEO_qgLP-Qt6"
      }
    },
    {
      "cell_type": "code",
      "source": [
        "with torch.inference_mode():\n",
        "  y_preds = model_0(X_test)\n",
        "\n",
        "y_preds"
      ],
      "metadata": {
        "colab": {
          "base_uri": "https://localhost:8080/"
        },
        "id": "T4pvuYHY97R_",
        "outputId": "df8415cd-6c39-4e10-f334-0d0991cf4bc0"
      },
      "execution_count": 43,
      "outputs": [
        {
          "output_type": "execute_result",
          "data": {
            "text/plain": [
              "tensor([[0.3982],\n",
              "        [0.4049],\n",
              "        [0.4116],\n",
              "        [0.4184],\n",
              "        [0.4251],\n",
              "        [0.4318],\n",
              "        [0.4386],\n",
              "        [0.4453],\n",
              "        [0.4520],\n",
              "        [0.4588]])"
            ]
          },
          "metadata": {},
          "execution_count": 43
        }
      ]
    },
    {
      "cell_type": "code",
      "source": [
        "y_test"
      ],
      "metadata": {
        "colab": {
          "base_uri": "https://localhost:8080/"
        },
        "id": "o9iacmZm-_cS",
        "outputId": "b719de4e-ac2b-4a76-e7de-329bb765dbd4"
      },
      "execution_count": 44,
      "outputs": [
        {
          "output_type": "execute_result",
          "data": {
            "text/plain": [
              "tensor([[0.8600],\n",
              "        [0.8740],\n",
              "        [0.8880],\n",
              "        [0.9020],\n",
              "        [0.9160],\n",
              "        [0.9300],\n",
              "        [0.9440],\n",
              "        [0.9580],\n",
              "        [0.9720],\n",
              "        [0.9860]])"
            ]
          },
          "metadata": {},
          "execution_count": 44
        }
      ]
    },
    {
      "cell_type": "code",
      "source": [
        "plot_predictions(predictions = y_preds)"
      ],
      "metadata": {
        "colab": {
          "base_uri": "https://localhost:8080/",
          "height": 599
        },
        "id": "eyKl-_uj_PlI",
        "outputId": "487e3d95-3af6-4c0c-f7e0-70e176fa0522"
      },
      "execution_count": 45,
      "outputs": [
        {
          "output_type": "display_data",
          "data": {
            "text/plain": [
              "<Figure size 1000x700 with 1 Axes>"
            ],
            "image/png": "[encoded data removed]"
          },
          "metadata": {}
        }
      ]
    },
    {
      "cell_type": "code",
      "source": [
        "list(model_0.parameters())"
      ],
      "metadata": {
        "id": "hM8BN5cR_ZxK",
        "outputId": "558d2c66-e357-421b-a89c-613adcbe18b4",
        "colab": {
          "base_uri": "https://localhost:8080/"
        }
      },
      "execution_count": 46,
      "outputs": [
        {
          "output_type": "execute_result",
          "data": {
            "text/plain": [
              "[Parameter containing:\n",
              " tensor([0.3367], requires_grad=True),\n",
              " Parameter containing:\n",
              " tensor([0.1288], requires_grad=True)]"
            ]
          },
          "metadata": {},
          "execution_count": 46
        }
      ]
    },
    {
      "cell_type": "code",
      "source": [
        "    model_0.state_dict()"
      ],
      "metadata": {
        "id": "7mVwky7-tYtB",
        "outputId": "4b5f8c9b-9bc5-406f-a7d9-c7e82a9a904f",
        "colab": {
          "base_uri": "https://localhost:8080/"
        }
      },
      "execution_count": 47,
      "outputs": [
        {
          "output_type": "execute_result",
          "data": {
            "text/plain": [
              "OrderedDict([('weights', tensor([0.3367])), ('bias', tensor([0.1288]))])"
            ]
          },
          "metadata": {},
          "execution_count": 47
        }
      ]
    },
    {
      "cell_type": "code",
      "source": [
        "loss_fn = nn.L1Loss()\n",
        "\n",
        "optimizer = torch.optim.SGD(params=model_0.parameters(),\n",
        "                            lr = 0.01) # learning rate\n",
        "\n"
      ],
      "metadata": {
        "id": "6DBUETW5vbZE"
      },
      "execution_count": 48,
      "outputs": []
    },
    {
      "cell_type": "markdown",
      "source": [
        "### Building a training loop (and a testing loop) in Pytorch\n",
        "\n",
        "1. A couple of things we need in a training loop:\n",
        "2. Forward pass (this involves data moving through our model's 'forward()' functions) to make predictions on data - also called forward propagation.\n",
        "3. Optimizer zero grad\n",
        "4. Loss backward - move backwards through the network to calculate the gradients of each of the parameters of our model with respect to the loss.(**Backpropogation**)\n",
        "5. Optimizer step - use the optimizer to adjust our model's parameters to try and improve the loss"
      ],
      "metadata": {
        "id": "0ir_mvyewNz1"
      }
    },
    {
      "cell_type": "code",
      "source": [
        "# An epoch is one loop through the data....\n",
        "epochs = 1\n",
        "\n",
        "for epoch in range(epochs):\n",
        "  model_0.train()\n",
        "  #Foward pass\n",
        "  y_pred = model_0(X_train)\n",
        "  #Calculate the loss\n",
        "  loss = loss_fn(y_pred, y_train)\n",
        "  #Optimiser zero grad\n",
        "  optimizer.zero_grad()\n",
        "  # Perform backpropagation on the loss with respect to the parameters of the model.\n",
        "  loss.backward()\n",
        "  # Step the optimizer(perform gradient descent)\n",
        "  optimizer.step()\n",
        "\n",
        "  model_0.eval()#turns off gradient tracking\n"
      ],
      "metadata": {
        "id": "qQsG7Lbnv2a1"
      },
      "execution_count": 19,
      "outputs": []
    },
    {
      "cell_type": "code",
      "source": [
        "torch.manual_seed(42)\n",
        "\n",
        "epochs = 200\n",
        "\n",
        "epoch_values= []\n",
        "loss_values = []\n",
        "test_loss_values = []\n",
        "for epoch in range(epochs):\n",
        "  model_0.train()\n",
        "\n",
        "  y_pred = model_0(X_train)\n",
        "\n",
        "  loss = loss_fn(y_pred, y_train)\n",
        "  print(f\"Loss:{loss}\")\n",
        "\n",
        "  optimizer.zero_grad()\n",
        "\n",
        "  loss.backward()\n",
        "\n",
        "  optimizer.step()\n",
        "\n",
        "  model_0.eval()\n",
        "  with torch.inference_mode():\n",
        "    test_pred = model_0(X_test)\n",
        "    test_loss = loss_fn(test_pred, y_test)\n",
        "\n",
        "  if epoch%10==0:\n",
        "    epoch_values.append(epoch)\n",
        "    loss_values.append(loss)\n",
        "    test_loss_values.append(test_loss)\n",
        "    print(f\"Epoch:{epoch}|Loss:{loss}|Test Loss : {test_loss}\")\n",
        "\n",
        "    print(model_0.state_dict())"
      ],
      "metadata": {
        "colab": {
          "base_uri": "https://localhost:8080/"
        },
        "id": "ptWLJ9GK7vvE",
        "outputId": "387af9b9-8844-475f-ddbb-9af490673e81"
      },
      "execution_count": 33,
      "outputs": [
        {
          "output_type": "stream",
          "name": "stdout",
          "text": [
            "Loss:0.006556747946888208\n",
            "Epoch:0|Loss:0.006556747946888208|Test Loss : 0.0030598342418670654\n",
            "OrderedDict({'weights': tensor([0.6962]), 'bias': tensor([0.3064])})\n",
            "Loss:0.004964242689311504\n",
            "Loss:0.006556747946888208\n",
            "Loss:0.004964242689311504\n",
            "Loss:0.006556747946888208\n",
            "Loss:0.004964242689311504\n",
            "Loss:0.006556747946888208\n",
            "Loss:0.004964242689311504\n",
            "Loss:0.006556747946888208\n",
            "Loss:0.004964242689311504\n",
            "Loss:0.006556747946888208\n",
            "Epoch:10|Loss:0.006556747946888208|Test Loss : 0.0030598342418670654\n",
            "OrderedDict({'weights': tensor([0.6962]), 'bias': tensor([0.3064])})\n",
            "Loss:0.004964242689311504\n",
            "Loss:0.006556747946888208\n",
            "Loss:0.004964242689311504\n",
            "Loss:0.006556747946888208\n",
            "Loss:0.004964242689311504\n",
            "Loss:0.006556747946888208\n",
            "Loss:0.004964242689311504\n",
            "Loss:0.006556747946888208\n",
            "Loss:0.004964242689311504\n",
            "Loss:0.006556747946888208\n",
            "Epoch:20|Loss:0.006556747946888208|Test Loss : 0.0030598342418670654\n",
            "OrderedDict({'weights': tensor([0.6962]), 'bias': tensor([0.3064])})\n",
            "Loss:0.004964242689311504\n",
            "Loss:0.006556747946888208\n",
            "Loss:0.004964242689311504\n",
            "Loss:0.006556747946888208\n",
            "Loss:0.004964242689311504\n",
            "Loss:0.006556747946888208\n",
            "Loss:0.004964242689311504\n",
            "Loss:0.006556747946888208\n",
            "Loss:0.004964242689311504\n",
            "Loss:0.006556747946888208\n",
            "Epoch:30|Loss:0.006556747946888208|Test Loss : 0.0030598342418670654\n",
            "OrderedDict({'weights': tensor([0.6962]), 'bias': tensor([0.3064])})\n",
            "Loss:0.004964242689311504\n",
            "Loss:0.006556747946888208\n",
            "Loss:0.004964242689311504\n",
            "Loss:0.006556747946888208\n",
            "Loss:0.004964242689311504\n",
            "Loss:0.006556747946888208\n",
            "Loss:0.004964242689311504\n",
            "Loss:0.006556747946888208\n",
            "Loss:0.004964242689311504\n",
            "Loss:0.006556747946888208\n",
            "Epoch:40|Loss:0.006556747946888208|Test Loss : 0.0030598342418670654\n",
            "OrderedDict({'weights': tensor([0.6962]), 'bias': tensor([0.3064])})\n",
            "Loss:0.004964242689311504\n",
            "Loss:0.006556747946888208\n",
            "Loss:0.004964242689311504\n",
            "Loss:0.006556747946888208\n",
            "Loss:0.004964242689311504\n",
            "Loss:0.006556747946888208\n",
            "Loss:0.004964242689311504\n",
            "Loss:0.006556747946888208\n",
            "Loss:0.004964242689311504\n",
            "Loss:0.006556747946888208\n",
            "Epoch:50|Loss:0.006556747946888208|Test Loss : 0.0030598342418670654\n",
            "OrderedDict({'weights': tensor([0.6962]), 'bias': tensor([0.3064])})\n",
            "Loss:0.004964242689311504\n",
            "Loss:0.006556747946888208\n",
            "Loss:0.004964242689311504\n",
            "Loss:0.006556747946888208\n",
            "Loss:0.004964242689311504\n",
            "Loss:0.006556747946888208\n",
            "Loss:0.004964242689311504\n",
            "Loss:0.006556747946888208\n",
            "Loss:0.004964242689311504\n",
            "Loss:0.006556747946888208\n",
            "Epoch:60|Loss:0.006556747946888208|Test Loss : 0.0030598342418670654\n",
            "OrderedDict({'weights': tensor([0.6962]), 'bias': tensor([0.3064])})\n",
            "Loss:0.004964242689311504\n",
            "Loss:0.006556747946888208\n",
            "Loss:0.004964242689311504\n",
            "Loss:0.006556747946888208\n",
            "Loss:0.004964242689311504\n",
            "Loss:0.006556747946888208\n",
            "Loss:0.004964242689311504\n",
            "Loss:0.006556747946888208\n",
            "Loss:0.004964242689311504\n",
            "Loss:0.006556747946888208\n",
            "Epoch:70|Loss:0.006556747946888208|Test Loss : 0.0030598342418670654\n",
            "OrderedDict({'weights': tensor([0.6962]), 'bias': tensor([0.3064])})\n",
            "Loss:0.004964242689311504\n",
            "Loss:0.006556747946888208\n",
            "Loss:0.004964242689311504\n",
            "Loss:0.006556747946888208\n",
            "Loss:0.004964242689311504\n",
            "Loss:0.006556747946888208\n",
            "Loss:0.004964242689311504\n",
            "Loss:0.006556747946888208\n",
            "Loss:0.004964242689311504\n",
            "Loss:0.006556747946888208\n",
            "Epoch:80|Loss:0.006556747946888208|Test Loss : 0.0030598342418670654\n",
            "OrderedDict({'weights': tensor([0.6962]), 'bias': tensor([0.3064])})\n",
            "Loss:0.004964242689311504\n",
            "Loss:0.006556747946888208\n",
            "Loss:0.004964242689311504\n",
            "Loss:0.006556747946888208\n",
            "Loss:0.004964242689311504\n",
            "Loss:0.006556747946888208\n",
            "Loss:0.004964242689311504\n",
            "Loss:0.006556747946888208\n",
            "Loss:0.004964242689311504\n",
            "Loss:0.006556747946888208\n",
            "Epoch:90|Loss:0.006556747946888208|Test Loss : 0.0030598342418670654\n",
            "OrderedDict({'weights': tensor([0.6962]), 'bias': tensor([0.3064])})\n",
            "Loss:0.004964242689311504\n",
            "Loss:0.006556747946888208\n",
            "Loss:0.004964242689311504\n",
            "Loss:0.006556747946888208\n",
            "Loss:0.004964242689311504\n",
            "Loss:0.006556747946888208\n",
            "Loss:0.004964242689311504\n",
            "Loss:0.006556747946888208\n",
            "Loss:0.004964242689311504\n",
            "Loss:0.006556747946888208\n",
            "Epoch:100|Loss:0.006556747946888208|Test Loss : 0.0030598342418670654\n",
            "OrderedDict({'weights': tensor([0.6962]), 'bias': tensor([0.3064])})\n",
            "Loss:0.004964242689311504\n",
            "Loss:0.006556747946888208\n",
            "Loss:0.004964242689311504\n",
            "Loss:0.006556747946888208\n",
            "Loss:0.004964242689311504\n",
            "Loss:0.006556747946888208\n",
            "Loss:0.004964242689311504\n",
            "Loss:0.006556747946888208\n",
            "Loss:0.004964242689311504\n",
            "Loss:0.006556747946888208\n",
            "Epoch:110|Loss:0.006556747946888208|Test Loss : 0.0030598342418670654\n",
            "OrderedDict({'weights': tensor([0.6962]), 'bias': tensor([0.3064])})\n",
            "Loss:0.004964242689311504\n",
            "Loss:0.006556747946888208\n",
            "Loss:0.004964242689311504\n",
            "Loss:0.006556747946888208\n",
            "Loss:0.004964242689311504\n",
            "Loss:0.006556747946888208\n",
            "Loss:0.004964242689311504\n",
            "Loss:0.006556747946888208\n",
            "Loss:0.004964242689311504\n",
            "Loss:0.006556747946888208\n",
            "Epoch:120|Loss:0.006556747946888208|Test Loss : 0.0030598342418670654\n",
            "OrderedDict({'weights': tensor([0.6962]), 'bias': tensor([0.3064])})\n",
            "Loss:0.004964242689311504\n",
            "Loss:0.006556747946888208\n",
            "Loss:0.004964242689311504\n",
            "Loss:0.006556747946888208\n",
            "Loss:0.004964242689311504\n",
            "Loss:0.006556747946888208\n",
            "Loss:0.004964242689311504\n",
            "Loss:0.006556747946888208\n",
            "Loss:0.004964242689311504\n",
            "Loss:0.006556747946888208\n",
            "Epoch:130|Loss:0.006556747946888208|Test Loss : 0.0030598342418670654\n",
            "OrderedDict({'weights': tensor([0.6962]), 'bias': tensor([0.3064])})\n",
            "Loss:0.004964242689311504\n",
            "Loss:0.006556747946888208\n",
            "Loss:0.004964242689311504\n",
            "Loss:0.006556747946888208\n",
            "Loss:0.004964242689311504\n",
            "Loss:0.006556747946888208\n",
            "Loss:0.004964242689311504\n",
            "Loss:0.006556747946888208\n",
            "Loss:0.004964242689311504\n",
            "Loss:0.006556747946888208\n",
            "Epoch:140|Loss:0.006556747946888208|Test Loss : 0.0030598342418670654\n",
            "OrderedDict({'weights': tensor([0.6962]), 'bias': tensor([0.3064])})\n",
            "Loss:0.004964242689311504\n",
            "Loss:0.006556747946888208\n",
            "Loss:0.004964242689311504\n",
            "Loss:0.006556747946888208\n",
            "Loss:0.004964242689311504\n",
            "Loss:0.006556747946888208\n",
            "Loss:0.004964242689311504\n",
            "Loss:0.006556747946888208\n",
            "Loss:0.004964242689311504\n",
            "Loss:0.006556747946888208\n",
            "Epoch:150|Loss:0.006556747946888208|Test Loss : 0.0030598342418670654\n",
            "OrderedDict({'weights': tensor([0.6962]), 'bias': tensor([0.3064])})\n",
            "Loss:0.004964242689311504\n",
            "Loss:0.006556747946888208\n",
            "Loss:0.004964242689311504\n",
            "Loss:0.006556747946888208\n",
            "Loss:0.004964242689311504\n",
            "Loss:0.006556747946888208\n",
            "Loss:0.004964242689311504\n",
            "Loss:0.006556747946888208\n",
            "Loss:0.004964242689311504\n",
            "Loss:0.006556747946888208\n",
            "Epoch:160|Loss:0.006556747946888208|Test Loss : 0.0030598342418670654\n",
            "OrderedDict({'weights': tensor([0.6962]), 'bias': tensor([0.3064])})\n",
            "Loss:0.004964242689311504\n",
            "Loss:0.006556747946888208\n",
            "Loss:0.004964242689311504\n",
            "Loss:0.006556747946888208\n",
            "Loss:0.004964242689311504\n",
            "Loss:0.006556747946888208\n",
            "Loss:0.004964242689311504\n",
            "Loss:0.006556747946888208\n",
            "Loss:0.004964242689311504\n",
            "Loss:0.006556747946888208\n",
            "Epoch:170|Loss:0.006556747946888208|Test Loss : 0.0030598342418670654\n",
            "OrderedDict({'weights': tensor([0.6962]), 'bias': tensor([0.3064])})\n",
            "Loss:0.004964242689311504\n",
            "Loss:0.006556747946888208\n",
            "Loss:0.004964242689311504\n",
            "Loss:0.006556747946888208\n",
            "Loss:0.004964242689311504\n",
            "Loss:0.006556747946888208\n",
            "Loss:0.004964242689311504\n",
            "Loss:0.006556747946888208\n",
            "Loss:0.004964242689311504\n",
            "Loss:0.006556747946888208\n",
            "Epoch:180|Loss:0.006556747946888208|Test Loss : 0.0030598342418670654\n",
            "OrderedDict({'weights': tensor([0.6962]), 'bias': tensor([0.3064])})\n",
            "Loss:0.004964242689311504\n",
            "Loss:0.006556747946888208\n",
            "Loss:0.004964242689311504\n",
            "Loss:0.006556747946888208\n",
            "Loss:0.004964242689311504\n",
            "Loss:0.006556747946888208\n",
            "Loss:0.004964242689311504\n",
            "Loss:0.006556747946888208\n",
            "Loss:0.004964242689311504\n",
            "Loss:0.006556747946888208\n",
            "Epoch:190|Loss:0.006556747946888208|Test Loss : 0.0030598342418670654\n",
            "OrderedDict({'weights': tensor([0.6962]), 'bias': tensor([0.3064])})\n",
            "Loss:0.004964242689311504\n",
            "Loss:0.006556747946888208\n",
            "Loss:0.004964242689311504\n",
            "Loss:0.006556747946888208\n",
            "Loss:0.004964242689311504\n",
            "Loss:0.006556747946888208\n",
            "Loss:0.004964242689311504\n",
            "Loss:0.006556747946888208\n",
            "Loss:0.004964242689311504\n"
          ]
        }
      ]
    },
    {
      "cell_type": "code",
      "source": [
        "np.random.seed(42)\n",
        "\n",
        "epochs = 100\n",
        "epoch_values = []\n",
        "loss_values = []\n",
        "test_loss_values=[]\n",
        "\n",
        "for epoch in range(epochs):\n",
        "\n",
        "  model_0.train()\n",
        "\n",
        "  y_pred = model_0(X_train)\n",
        "\n",
        "  loss_fn(y_pred, y_test)\n",
        "\n",
        "  optimizer.zero_grad()\n",
        "\n",
        "  loss.backward()\n",
        "\n",
        "  optimizer.step()\n",
        "\n",
        "  model_0.eval()\n",
        "\n",
        "  with torch.inference_mode():\n",
        "    test_pred = model_0(X_test)\n",
        "    test_loss = loss_fn(test_pred, y_test)\n",
        "\n",
        "\n",
        "  if epoch%10==0:\n",
        "    epoch_values.append(epoch)\n",
        "    loss_values.append(loss)\n",
        "    test_loss_values.append(test_loss)\n",
        "    print(f\"Epoch:{epoch}| Loss:{loss}| Test Loss : {test_loss}\")\n",
        "\n",
        "\n",
        "\n"
      ],
      "metadata": {
        "id": "sRZ1x3NpUdNk",
        "outputId": "de567eac-98a7-42f5-fa77-2d57c9bf7dff",
        "colab": {
          "base_uri": "https://localhost:8080/",
          "height": 216
        }
      },
      "execution_count": 49,
      "outputs": [
        {
          "output_type": "error",
          "ename": "NameError",
          "evalue": "name 'np' is not defined",
          "traceback": [
            "\u001b[0;31m---------------------------------------------------------------------------\u001b[0m",
            "\u001b[0;31mNameError\u001b[0m                                 Traceback (most recent call last)",
            "\u001b[0;32m/tmp/ipython-input-3932175968.py\u001b[0m in \u001b[0;36m<cell line: 0>\u001b[0;34m()\u001b[0m\n\u001b[0;32m----> 1\u001b[0;31m \u001b[0mnp\u001b[0m\u001b[0;34m.\u001b[0m\u001b[0mrandom\u001b[0m\u001b[0;34m.\u001b[0m\u001b[0mseed\u001b[0m\u001b[0;34m(\u001b[0m\u001b[0;36m42\u001b[0m\u001b[0;34m)\u001b[0m\u001b[0;34m\u001b[0m\u001b[0;34m\u001b[0m\u001b[0m\n\u001b[0m\u001b[1;32m      2\u001b[0m \u001b[0;34m\u001b[0m\u001b[0m\n\u001b[1;32m      3\u001b[0m \u001b[0mepochs\u001b[0m \u001b[0;34m=\u001b[0m \u001b[0;36m100\u001b[0m\u001b[0;34m\u001b[0m\u001b[0;34m\u001b[0m\u001b[0m\n\u001b[1;32m      4\u001b[0m \u001b[0mepoch_values\u001b[0m \u001b[0;34m=\u001b[0m \u001b[0;34m[\u001b[0m\u001b[0;34m]\u001b[0m\u001b[0;34m\u001b[0m\u001b[0;34m\u001b[0m\u001b[0m\n\u001b[1;32m      5\u001b[0m \u001b[0mloss_values\u001b[0m \u001b[0;34m=\u001b[0m \u001b[0;34m[\u001b[0m\u001b[0;34m]\u001b[0m\u001b[0;34m\u001b[0m\u001b[0;34m\u001b[0m\u001b[0m\n",
            "\u001b[0;31mNameError\u001b[0m: name 'np' is not defined"
          ]
        }
      ]
    },
    {
      "cell_type": "markdown",
      "source": [
        "####Learning rate Scheduling"
      ],
      "metadata": {
        "id": "N3w2WokWEY8F"
      }
    },
    {
      "cell_type": "code",
      "source": [
        "with torch.inference_mode():\n",
        "  y_preds_new = model_0(X_test)"
      ],
      "metadata": {
        "id": "i7a-fREeBsX9"
      },
      "execution_count": 34,
      "outputs": []
    },
    {
      "cell_type": "code",
      "source": [
        "weight, bias"
      ],
      "metadata": {
        "colab": {
          "base_uri": "https://localhost:8080/"
        },
        "id": "QH-t6D5tFsWs",
        "outputId": "c6a65bf0-6f95-4947-8e26-3a2a0d3f34b2"
      },
      "execution_count": 35,
      "outputs": [
        {
          "output_type": "execute_result",
          "data": {
            "text/plain": [
              "(0.7, 0.3)"
            ]
          },
          "metadata": {},
          "execution_count": 35
        }
      ]
    },
    {
      "cell_type": "code",
      "source": [
        "plot_predictions(predictions = y_preds_new)"
      ],
      "metadata": {
        "colab": {
          "base_uri": "https://localhost:8080/",
          "height": 599
        },
        "id": "qJQloIDXGZSN",
        "outputId": "23728074-13a0-49c4-dbbb-679340687ccf"
      },
      "execution_count": 36,
      "outputs": [
        {
          "output_type": "display_data",
          "data": {
            "text/plain": [
              "<Figure size 1000x700 with 1 Axes>"
            ],
            "image/png": "[encoded data removed]"
          },
          "metadata": {}
        }
      ]
    },
    {
      "cell_type": "code",
      "source": [],
      "metadata": {
        "id": "NBs5R0PnGiL1"
      },
      "execution_count": 23,
      "outputs": []
    }
  ]
}